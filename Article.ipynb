{
 "cells": [
  {
   "cell_type": "markdown",
   "id": "ca88fe6e",
   "metadata": {},
   "source": [
    "# Материалы для статьи"
   ]
  },
  {
   "cell_type": "code",
   "execution_count": 66,
   "id": "d012d55e",
   "metadata": {},
   "outputs": [],
   "source": [
    "# Подключение модулей\n",
    "import pandas as pd, numpy as np\n",
    "import FireAnalysis as fr, FireAnalysis2 as fr2 # вспомогательные функции\n",
    "import pyodbc as sqlMS # связь с Access\n",
    "import pickle\n",
    "import seaborn as sns\n",
    "import matplotlib\n",
    "import matplotlib.pyplot as plt"
   ]
  },
  {
   "cell_type": "code",
   "execution_count": null,
   "id": "bedf7f1f",
   "metadata": {},
   "outputs": [],
   "source": [
    "# Создание связи с БД \"Пожары\"\n",
    "connStr = (r\"DRIVER={Microsoft Access Driver (*.mdb, *.accdb)};\" r\"DBQ=d:\\FR\\FR.accdb;\")\n",
    "conn = sqlMS.connect(connStr) # создать соединение с БД\n",
    "cursor = conn.cursor()\n",
    "\n",
    "# Условия развития пожара - добавить условия развития пожаров\n",
    "strSQL = f'''\n",
    "SELECT [F83]+[F84]+[F85]+[F86]+[F87] AS T, [F91]+[F92]+[F93] AS Stv, [F5]+TimeSerial([F61],[F62],0) AS T1, [F71]+TimeSerial([F159],[F160],0) AS T2\n",
    "FROM FR2017\n",
    "WHERE ((([F83]+[F84]+[F85]+[F86]+[F87])>0) AND (([F91]+[F92]+[F93])>0) AND ((FR2017.F1)=1146));\n",
    "'''\n",
    "# Запрос - Пожары Московская область\n",
    "df = pd.read_sql(strSQL, conn)\n",
    "df"
   ]
  },
  {
   "cell_type": "code",
   "execution_count": 93,
   "id": "5766f6ad",
   "metadata": {},
   "outputs": [],
   "source": [
    "# Интервал в минутах - (df.T2-df.T1).dt.seconds/60\n",
    "# df.to_pickle('pkl/Article.pkl')\n",
    "df = pd.read_pickle('pkl/Article.pkl') "
   ]
  },
  {
   "cell_type": "code",
   "execution_count": 94,
   "id": "4f9f0fa1",
   "metadata": {},
   "outputs": [
    {
     "data": {
      "text/html": [
       "<div>\n",
       "<style scoped>\n",
       "    .dataframe tbody tr th:only-of-type {\n",
       "        vertical-align: middle;\n",
       "    }\n",
       "\n",
       "    .dataframe tbody tr th {\n",
       "        vertical-align: top;\n",
       "    }\n",
       "\n",
       "    .dataframe thead th {\n",
       "        text-align: right;\n",
       "    }\n",
       "</style>\n",
       "<table border=\"1\" class=\"dataframe\">\n",
       "  <thead>\n",
       "    <tr style=\"text-align: right;\">\n",
       "      <th></th>\n",
       "      <th>T</th>\n",
       "      <th>Stv</th>\n",
       "      <th>T1</th>\n",
       "      <th>T2</th>\n",
       "      <th>D</th>\n",
       "      <th>dT</th>\n",
       "      <th>dStv</th>\n",
       "      <th>dD</th>\n",
       "      <th>S</th>\n",
       "    </tr>\n",
       "  </thead>\n",
       "  <tbody>\n",
       "    <tr>\n",
       "      <th>0</th>\n",
       "      <td>1.0</td>\n",
       "      <td>1.0</td>\n",
       "      <td>2017-06-29 08:12:00</td>\n",
       "      <td>2017-06-29 08:16:00</td>\n",
       "      <td>4.0</td>\n",
       "      <td>0.000000</td>\n",
       "      <td>0.000000</td>\n",
       "      <td>0.000000</td>\n",
       "      <td>0.000000</td>\n",
       "    </tr>\n",
       "    <tr>\n",
       "      <th>1</th>\n",
       "      <td>1.0</td>\n",
       "      <td>1.0</td>\n",
       "      <td>2017-06-25 09:26:00</td>\n",
       "      <td>2017-06-25 09:30:00</td>\n",
       "      <td>4.0</td>\n",
       "      <td>0.000000</td>\n",
       "      <td>0.000000</td>\n",
       "      <td>0.000000</td>\n",
       "      <td>0.000000</td>\n",
       "    </tr>\n",
       "    <tr>\n",
       "      <th>2</th>\n",
       "      <td>1.0</td>\n",
       "      <td>1.0</td>\n",
       "      <td>2017-04-10 23:16:00</td>\n",
       "      <td>2017-04-10 23:20:00</td>\n",
       "      <td>4.0</td>\n",
       "      <td>0.000000</td>\n",
       "      <td>0.000000</td>\n",
       "      <td>0.000000</td>\n",
       "      <td>0.000000</td>\n",
       "    </tr>\n",
       "    <tr>\n",
       "      <th>3</th>\n",
       "      <td>1.0</td>\n",
       "      <td>1.0</td>\n",
       "      <td>2017-08-23 00:01:00</td>\n",
       "      <td>2017-08-23 00:05:00</td>\n",
       "      <td>4.0</td>\n",
       "      <td>0.000000</td>\n",
       "      <td>0.000000</td>\n",
       "      <td>0.000000</td>\n",
       "      <td>0.000000</td>\n",
       "    </tr>\n",
       "    <tr>\n",
       "      <th>4</th>\n",
       "      <td>1.0</td>\n",
       "      <td>1.0</td>\n",
       "      <td>2017-03-08 16:43:00</td>\n",
       "      <td>2017-03-08 16:47:00</td>\n",
       "      <td>4.0</td>\n",
       "      <td>0.000000</td>\n",
       "      <td>0.000000</td>\n",
       "      <td>0.000000</td>\n",
       "      <td>0.000000</td>\n",
       "    </tr>\n",
       "    <tr>\n",
       "      <th>...</th>\n",
       "      <td>...</td>\n",
       "      <td>...</td>\n",
       "      <td>...</td>\n",
       "      <td>...</td>\n",
       "      <td>...</td>\n",
       "      <td>...</td>\n",
       "      <td>...</td>\n",
       "      <td>...</td>\n",
       "      <td>...</td>\n",
       "    </tr>\n",
       "    <tr>\n",
       "      <th>24936</th>\n",
       "      <td>4.0</td>\n",
       "      <td>6.0</td>\n",
       "      <td>2017-05-01 19:32:00</td>\n",
       "      <td>2017-05-03 19:00:00</td>\n",
       "      <td>1408.0</td>\n",
       "      <td>0.066667</td>\n",
       "      <td>0.238095</td>\n",
       "      <td>0.983193</td>\n",
       "      <td>1.287955</td>\n",
       "    </tr>\n",
       "    <tr>\n",
       "      <th>24937</th>\n",
       "      <td>11.0</td>\n",
       "      <td>8.0</td>\n",
       "      <td>2017-03-13 22:52:00</td>\n",
       "      <td>2017-03-14 16:40:00</td>\n",
       "      <td>1068.0</td>\n",
       "      <td>0.222222</td>\n",
       "      <td>0.333333</td>\n",
       "      <td>0.745098</td>\n",
       "      <td>1.300654</td>\n",
       "    </tr>\n",
       "    <tr>\n",
       "      <th>24938</th>\n",
       "      <td>11.0</td>\n",
       "      <td>9.0</td>\n",
       "      <td>2017-12-31 15:32:00</td>\n",
       "      <td>2018-01-01 11:03:00</td>\n",
       "      <td>1171.0</td>\n",
       "      <td>0.222222</td>\n",
       "      <td>0.380952</td>\n",
       "      <td>0.817227</td>\n",
       "      <td>1.420401</td>\n",
       "    </tr>\n",
       "    <tr>\n",
       "      <th>24939</th>\n",
       "      <td>21.0</td>\n",
       "      <td>13.0</td>\n",
       "      <td>2017-05-21 03:50:00</td>\n",
       "      <td>2017-05-22 16:02:00</td>\n",
       "      <td>732.0</td>\n",
       "      <td>0.444444</td>\n",
       "      <td>0.571429</td>\n",
       "      <td>0.509804</td>\n",
       "      <td>1.525677</td>\n",
       "    </tr>\n",
       "    <tr>\n",
       "      <th>24940</th>\n",
       "      <td>46.0</td>\n",
       "      <td>17.0</td>\n",
       "      <td>2017-10-08 15:09:00</td>\n",
       "      <td>2017-10-10 15:01:00</td>\n",
       "      <td>1432.0</td>\n",
       "      <td>1.000000</td>\n",
       "      <td>0.761905</td>\n",
       "      <td>1.000000</td>\n",
       "      <td>2.761905</td>\n",
       "    </tr>\n",
       "  </tbody>\n",
       "</table>\n",
       "<p>24941 rows × 9 columns</p>\n",
       "</div>"
      ],
      "text/plain": [
       "          T   Stv                  T1                  T2       D        dT  \\\n",
       "0       1.0   1.0 2017-06-29 08:12:00 2017-06-29 08:16:00     4.0  0.000000   \n",
       "1       1.0   1.0 2017-06-25 09:26:00 2017-06-25 09:30:00     4.0  0.000000   \n",
       "2       1.0   1.0 2017-04-10 23:16:00 2017-04-10 23:20:00     4.0  0.000000   \n",
       "3       1.0   1.0 2017-08-23 00:01:00 2017-08-23 00:05:00     4.0  0.000000   \n",
       "4       1.0   1.0 2017-03-08 16:43:00 2017-03-08 16:47:00     4.0  0.000000   \n",
       "...     ...   ...                 ...                 ...     ...       ...   \n",
       "24936   4.0   6.0 2017-05-01 19:32:00 2017-05-03 19:00:00  1408.0  0.066667   \n",
       "24937  11.0   8.0 2017-03-13 22:52:00 2017-03-14 16:40:00  1068.0  0.222222   \n",
       "24938  11.0   9.0 2017-12-31 15:32:00 2018-01-01 11:03:00  1171.0  0.222222   \n",
       "24939  21.0  13.0 2017-05-21 03:50:00 2017-05-22 16:02:00   732.0  0.444444   \n",
       "24940  46.0  17.0 2017-10-08 15:09:00 2017-10-10 15:01:00  1432.0  1.000000   \n",
       "\n",
       "           dStv        dD         S  \n",
       "0      0.000000  0.000000  0.000000  \n",
       "1      0.000000  0.000000  0.000000  \n",
       "2      0.000000  0.000000  0.000000  \n",
       "3      0.000000  0.000000  0.000000  \n",
       "4      0.000000  0.000000  0.000000  \n",
       "...         ...       ...       ...  \n",
       "24936  0.238095  0.983193  1.287955  \n",
       "24937  0.333333  0.745098  1.300654  \n",
       "24938  0.380952  0.817227  1.420401  \n",
       "24939  0.571429  0.509804  1.525677  \n",
       "24940  0.761905  1.000000  2.761905  \n",
       "\n",
       "[24941 rows x 9 columns]"
      ]
     },
     "execution_count": 94,
     "metadata": {},
     "output_type": "execute_result"
    }
   ],
   "source": [
    "df = df.loc[(df['D'] > 1) & (df['T'] > 0) & (df['Stv'] > 0)]\n",
    "\n",
    "# Интервалы MinMax\n",
    "df['dT'] = (df['T'] - df['T'].min())/(df['T'].max() - df['T'].min())\n",
    "df['dStv'] = (df['Stv'] - df['Stv'].min())/(df['Stv'].max() - df['Stv'].min())\n",
    "df['dD'] = (df['D'] - df['D'].min())/(df['D'].max() - df['D'].min())\n",
    "df['S'] = df['dT'] + df['dStv'] + df['dD']  # Сумма по MinMax\n",
    "df = df.sort_values(by='S')  # Сортировка по столбцу\n",
    "df = dfs.reset_index(drop=True)\n",
    "df"
   ]
  },
  {
   "cell_type": "code",
   "execution_count": 105,
   "id": "546c4422",
   "metadata": {},
   "outputs": [
    {
     "data": {
      "image/png": "[encoded data removed]",
      "text/plain": [
       "<Figure size 1152x432 with 1 Axes>"
      ]
     },
     "metadata": {},
     "output_type": "display_data"
    }
   ],
   "source": [
    "sns.set_style(\"whitegrid\")  #  \n",
    "\n",
    "fig, ax = plt.subplots(figsize = (16,6))\n",
    "sns.histplot(df[\"S\"], binwidth=0.005)\n",
    "x = df['S'].median()\n",
    "plt.axvline(x, color='green', linestyle='dashed', linewidth=1.4)\n",
    "plt.text(x+0.01, 3550, 'Me = ' + str(round(x,3)), color='green', size=12)\n",
    "\n",
    "m = df.index.max()\n",
    "sns.lineplot(x=df.index/m, y=df['S']*1268, color='red', linewidth=2.2, linestyle='dashed')\n",
    "             \n",
    "ax.set(xlim = [-0.01, 1.01])\n",
    "ax.set_ylabel('Частота', size=10)\n",
    "ax.set_xlabel('Масштаб пожара', size=10)\n",
    "\n",
    "fig.savefig('img/Masht', dpi=300, bbox_inches = 'tight')"
   ]
  },
  {
   "cell_type": "code",
   "execution_count": 99,
   "id": "2ee46c74",
   "metadata": {},
   "outputs": [
    {
     "data": {
      "text/plain": [
       "2.761904761904762"
      ]
     },
     "execution_count": 99,
     "metadata": {},
     "output_type": "execute_result"
    }
   ],
   "source": [
    "df['S'].max()"
   ]
  },
  {
   "cell_type": "code",
   "execution_count": 84,
   "id": "10984cef",
   "metadata": {},
   "outputs": [
    {
     "data": {
      "text/plain": [
       "<AxesSubplot:ylabel='S'>"
      ]
     },
     "execution_count": 84,
     "metadata": {},
     "output_type": "execute_result"
    },
    {
     "data": {
      "image/png": "[encoded data removed]",
      "text/plain": [
       "<Figure size 432x288 with 1 Axes>"
      ]
     },
     "metadata": {},
     "output_type": "display_data"
    }
   ],
   "source": [
    "\n",
    "sns.lineplot(data=dfs, x=dfs.index, y='S')"
   ]
  }
 ],
 "metadata": {
  "kernelspec": {
   "display_name": "Python 3",
   "language": "python",
   "name": "python3"
  },
  "language_info": {
   "codemirror_mode": {
    "name": "ipython",
    "version": 3
   },
   "file_extension": ".py",
   "mimetype": "text/x-python",
   "name": "python",
   "nbconvert_exporter": "python",
   "pygments_lexer": "ipython3",
   "version": "3.8.8"
  }
 },
 "nbformat": 4,
 "nbformat_minor": 5
}
